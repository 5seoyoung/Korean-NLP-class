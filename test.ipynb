{
 "cells": [
  {
   "cell_type": "code",
   "execution_count": 1,
   "metadata": {},
   "outputs": [],
   "source": [
    "from konlpy.tag import Okt"
   ]
  },
  {
   "cell_type": "code",
   "execution_count": 2,
   "metadata": {},
   "outputs": [],
   "source": [
    "okt = Okt()\n",
    "text = \"KoNLPy를 이용한 한국어 자연어 처리는 정말 재미있다!\""
   ]
  },
  {
   "cell_type": "code",
   "execution_count": 3,
   "metadata": {},
   "outputs": [
    {
     "name": "stdout",
     "output_type": "stream",
     "text": [
      "['KoNLPy', '를', '이용', '한', '한국어', '자연어', '처리', '는', '정말', '재미있다', '!']\n",
      "[('KoNLPy', 'Alpha'), ('를', 'Noun'), ('이용', 'Noun'), ('한', 'Josa'), ('한국어', 'Noun'), ('자연어', 'Noun'), ('처리', 'Noun'), ('는', 'Josa'), ('정말', 'Noun'), ('재미있다', 'Adjective'), ('!', 'Punctuation')]\n",
      "['를', '이용', '한국어', '자연어', '처리', '정말']\n"
     ]
    }
   ],
   "source": [
    "print(okt.morphs(text))  # 형태소 분석\n",
    "print(okt.pos(text))  # 품사 태깅\n",
    "print(okt.nouns(text))  # 명사 추출"
   ]
  },
  {
   "cell_type": "code",
   "execution_count": 4,
   "metadata": {},
   "outputs": [],
   "source": [
    "from konlpy.tag import Kkma\n",
    "from konlpy.utils import pprint"
   ]
  },
  {
   "cell_type": "code",
   "execution_count": 7,
   "metadata": {},
   "outputs": [
    {
     "name": "stdout",
     "output_type": "stream",
     "text": [
      "['우왕', '코', '모란', '도', '오픈', '소스', '가', '되', '었', '어요']\n",
      "['오픈', '소스', '관심', '개발자']\n",
      "[('혹시', 'MAG'), ('바람과 함께 사라지다', 'NNP'), ('보', 'VV'), ('았', 'EP'), ('어', 'EF'), ('?', 'SF')]\n"
     ]
    }
   ],
   "source": [
    "from konlpy.tag import Komoran\n",
    "komoran = Komoran(userdic='/tmp/dic.txt')\n",
    "print(komoran.morphs(u'우왕 코모란도 오픈소스가 되었어요'))\n",
    "print(komoran.nouns(u'오픈소스에 관심 많은 멋진 개발자님들!'))\n",
    "print(komoran.pos(u'혹시 바람과 함께 사라지다 봤어?'))"
   ]
  },
  {
   "cell_type": "code",
   "execution_count": null,
   "metadata": {},
   "outputs": [],
   "source": []
  }
 ],
 "metadata": {
  "kernelspec": {
   "display_name": "Python 3",
   "language": "python",
   "name": "python3"
  },
  "language_info": {
   "codemirror_mode": {
    "name": "ipython",
    "version": 3
   },
   "file_extension": ".py",
   "mimetype": "text/x-python",
   "name": "python",
   "nbconvert_exporter": "python",
   "pygments_lexer": "ipython3",
   "version": "3.12.0"
  }
 },
 "nbformat": 4,
 "nbformat_minor": 2
}
